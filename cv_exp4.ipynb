{
 "cells": [
  {
   "cell_type": "code",
   "id": "initial_id",
   "metadata": {
    "collapsed": true,
    "ExecuteTime": {
     "end_time": "2024-11-01T13:56:37.581833Z",
     "start_time": "2024-11-01T13:56:37.102912Z"
    }
   },
   "source": [
    "# 训练导入模块\n",
    "from PIL import Image\n",
    "import os\n",
    "import sys\n",
    "import numpy as np\n",
    "import time\n",
    "from sklearn import svm\n",
    "import joblib\n",
    "import warnings\n",
    "warnings.filterwarnings('ignore')\n",
    "\n",
    "# 数据集解压模块\n",
    "import gzip\n",
    "import struct"
   ],
   "outputs": [],
   "execution_count": 1
  },
  {
   "metadata": {
    "ExecuteTime": {
     "end_time": "2024-11-01T14:12:30.918016Z",
     "start_time": "2024-11-01T14:12:30.910864Z"
    }
   },
   "cell_type": "code",
   "source": [
    "# 是否重新训练模型\n",
    "'''\n",
    "注意这个是用来防止反复每次跑代码反复训练的，第一次跑时改成True\n",
    "'''\n",
    "is_retrain = False"
   ],
   "id": "d26b9821c6a95326",
   "outputs": [],
   "execution_count": 21
  },
  {
   "metadata": {},
   "cell_type": "markdown",
   "source": "## 模型",
   "id": "e186ed9411c96d2b"
  },
  {
   "metadata": {
    "ExecuteTime": {
     "end_time": "2024-11-01T13:56:37.846174Z",
     "start_time": "2024-11-01T13:56:37.598007Z"
    }
   },
   "cell_type": "code",
   "source": [
    "def load_images(filename):\n",
    "    with gzip.open(filename, 'rb') as f:\n",
    "        # 读取魔术数和尺寸\n",
    "        magic, num, rows, cols = struct.unpack(\">IIII\", f.read(16))\n",
    "        # 读取图像数据\n",
    "        images = np.frombuffer(f.read(), dtype=np.uint8).reshape(num, rows, cols)\n",
    "    return images\n",
    "\n",
    "def load_labels(filename):\n",
    "    with gzip.open(filename, 'rb') as f:\n",
    "        # 读取魔术数和标签数量\n",
    "        magic, num = struct.unpack(\">II\", f.read(8))\n",
    "        # 读取标签\n",
    "        labels = np.frombuffer(f.read(), dtype=np.uint8)\n",
    "    return labels\n",
    "\n",
    "# 加载训练集\n",
    "train_images = load_images(r'E:\\ipynb\\project\\cv_exp_mnist\\train-images-idx3-ubyte.gz')\n",
    "train_labels = load_labels(r'E:\\ipynb\\project\\cv_exp_mnist\\train-labels-idx1-ubyte.gz')\n",
    "\n",
    "# 加载测试集\n",
    "test_images = load_images(r'E:\\ipynb\\project\\cv_exp_mnist\\t10k-images-idx3-ubyte.gz')\n",
    "test_labels = load_labels(r'E:\\ipynb\\project\\cv_exp_mnist\\t10k-labels-idx1-ubyte.gz')\n",
    "\n",
    "# 输出数据集的形状\n",
    "print(\"Training images shape:\", train_images.shape)\n",
    "print(\"Training labels shape:\", train_labels.shape)\n",
    "print(\"Test images shape:\", test_images.shape)\n",
    "print(\"Test labels shape:\", test_labels.shape)\n"
   ],
   "id": "d35709dacb00feb7",
   "outputs": [
    {
     "name": "stdout",
     "output_type": "stream",
     "text": [
      "Training images shape: (60000, 28, 28)\n",
      "Training labels shape: (60000,)\n",
      "Test images shape: (10000, 28, 28)\n",
      "Test labels shape: (10000,)\n"
     ]
    }
   ],
   "execution_count": 3
  },
  {
   "metadata": {
    "ExecuteTime": {
     "end_time": "2024-11-01T13:56:37.862111Z",
     "start_time": "2024-11-01T13:56:37.848366Z"
    }
   },
   "cell_type": "code",
   "source": [
    "def img2vector4qt(imgFile):\n",
    "    #print(“in img2vector func--para:{}”. format(imgFile))\n",
    "    img = Image.open(imgFile).convert('L')\n",
    "    img_arr = np.array(img,'i')                         #16像素*16像素的灰度图\n",
    "    img_normalization = np.round(img_arr /255)          #对灰度值进行归一化处理\n",
    "    img_arr2=np.reshape(img_normalization,(1,-1))       #1*25的向量\n",
    "    return img_arr2"
   ],
   "id": "e7e3321173f246a8",
   "outputs": [],
   "execution_count": 4
  },
  {
   "metadata": {
    "ExecuteTime": {
     "end_time": "2024-11-01T13:56:37.877912Z",
     "start_time": "2024-11-01T13:56:37.863586Z"
    }
   },
   "cell_type": "code",
   "source": [
    "# 假设已经从 .idx 文件中读取了 train_images (num_samples, 28, 28) 和 train_labels (num_samples, )\n",
    "# 需要先调整图像大小为 16x16，然后将它们展平为 1x256 的向量。\n",
    "\n",
    "# 步骤二：定义函数将 28x28 图像转换成 16x16 的灰度图并展平为 1x256 的向量\n",
    "def img2vector(img):\n",
    "    # 调整大小到 16x16 并转换为灰度\n",
    "    img_resized = Image.fromarray(img).resize((16, 16)).convert('L')\n",
    "    img_arr = np.array(img_resized)\n",
    "    # 归一化处理\n",
    "    img_normalized = np.round(img_arr / 255)\n",
    "    # 展平成 1x256 的向量\n",
    "    img_vector = img_normalized.reshape(1, -1)\n",
    "    return img_vector\n",
    "\n",
    "# 步骤三：将所有图像转化为向量并存储标签\n",
    "def prepare_data(images, labels):\n",
    "    num_samples = images.shape[0]\n",
    "    dataMat = np.zeros((num_samples, 256))  # 存储每个图像的 1x256 向量\n",
    "    dataLabel = []\n",
    "    for i in range(num_samples):\n",
    "        img_vector = img2vector(images[i])\n",
    "        dataMat[i, :] = img_vector  # 保存向量化后的图像\n",
    "        dataLabel.append(labels[i])  # 存储对应标签\n",
    "    return dataMat, dataLabel\n",
    "\n",
    "# 步骤四：创建 SVM 模型\n",
    "def create_svm(dataMat,dataLabel,path,decision='ovr') :\n",
    "    clf=svm.SVC(decision_function_shape=decision)\n",
    "    rf =clf.fit(dataMat,dataLabel)\n",
    "    joblib.dump(rf,path) # 存储模型\n",
    "    return clf\n"
   ],
   "id": "11ec3179db54b5e6",
   "outputs": [],
   "execution_count": 5
  },
  {
   "metadata": {
    "ExecuteTime": {
     "end_time": "2024-11-01T13:56:39.624883Z",
     "start_time": "2024-11-01T13:56:37.879201Z"
    }
   },
   "cell_type": "code",
   "source": [
    "# train\n",
    "print('正在运行模型，请稍等...')\n",
    "    \n",
    "# 将数据准备为 SVM 可接受的格式\n",
    "dataMat, dataLabel = prepare_data(train_images, train_labels)\n",
    "    \n",
    "# 存储模型\n",
    "model_path = r'E:\\ipynb\\project\\cv_exp_mnist\\svm.model'\n",
    "if os.path.exists(model_path) is False or is_retrain:\n",
    "    create_svm(dataMat, dataLabel, model_path, decision='ovr')\n",
    "    \n",
    "print('模型训练存储完成')"
   ],
   "id": "53e42174b0a0b3ac",
   "outputs": [
    {
     "name": "stdout",
     "output_type": "stream",
     "text": [
      "正在运行模型，请稍等...\n",
      "模型训练存储完成\n"
     ]
    }
   ],
   "execution_count": 6
  },
  {
   "metadata": {},
   "cell_type": "markdown",
   "source": "## 测试",
   "id": "8bfb3b4a5b55a7c4"
  },
  {
   "metadata": {
    "ExecuteTime": {
     "end_time": "2024-11-01T13:56:39.655763Z",
     "start_time": "2024-11-01T13:56:39.625939Z"
    }
   },
   "cell_type": "code",
   "source": [
    "path= sys.path[0]\n",
    "model_path=os.path.join(path,r'E:\\ipynb\\project\\cv_exp_mnist\\svm.model')\n",
    "# 加载测试集数据\n",
    "path=sys.path[0]\n",
    "tbasePath = test_images\n",
    "tst = time.process_time()\n",
    "#加载模型\n",
    "clf = joblib.load(model_path)\n",
    "testPath = tbasePath"
   ],
   "id": "174ca877dd2a9fff",
   "outputs": [],
   "execution_count": 7
  },
  {
   "metadata": {
    "ExecuteTime": {
     "end_time": "2024-11-01T13:56:39.966101Z",
     "start_time": "2024-11-01T13:56:39.656597Z"
    }
   },
   "cell_type": "code",
   "source": [
    "# 将数据转化为图像矩阵和标签\n",
    "tdataMat,tdataLabel = prepare_data(test_images,test_labels)\n",
    "print(\"测试集数据维度为:{0}， 标签数量: {1}\".format(tdataMat.shape,len(tdataLabel)))"
   ],
   "id": "b05a5b180cd59e2b",
   "outputs": [
    {
     "name": "stdout",
     "output_type": "stream",
     "text": [
      "测试集数据维度为:(10000, 256)， 标签数量: 10000\n"
     ]
    }
   ],
   "execution_count": 8
  },
  {
   "metadata": {
    "ExecuteTime": {
     "end_time": "2024-11-01T13:56:39.981787Z",
     "start_time": "2024-11-01T13:56:39.967100Z"
    }
   },
   "cell_type": "code",
   "source": [
    "def print_accuracy(clf, tdataMat, tdataLabel):\n",
    "    score_st=time.process_time()\n",
    "    score = clf.score(tdataMat,tdataLabel)\n",
    "    score_et=time.process_time()\n",
    "    print(\"计算准确率花费 {:.6f}秒.\".format(score_et - score_st))\n",
    "    print(\"准确率:{:.6f}.\".format(score))\n",
    "    print(\"错误率:{:.6f}.\".format((1 - score)))\n",
    "    tet = time.process_time()\n",
    "    print(\"测试总耗时{:.6f}秒.\".format(tet - tst))"
   ],
   "id": "b68235e2833eafce",
   "outputs": [],
   "execution_count": 9
  },
  {
   "metadata": {
    "ExecuteTime": {
     "end_time": "2024-11-01T13:56:39.996889Z",
     "start_time": "2024-11-01T13:56:39.983290Z"
    }
   },
   "cell_type": "code",
   "source": [
    "if is_retrain:\n",
    "    print_accuracy(clf, tdataMat, tdataLabel)"
   ],
   "id": "465d235ea9e1cb59",
   "outputs": [],
   "execution_count": 10
  },
  {
   "metadata": {},
   "cell_type": "markdown",
   "source": "## Qt",
   "id": "83beef500b628437"
  },
  {
   "metadata": {
    "ExecuteTime": {
     "end_time": "2024-11-01T13:56:40.027317Z",
     "start_time": "2024-11-01T13:56:39.997868Z"
    }
   },
   "cell_type": "code",
   "source": [
    "from PyQt5.QtWidgets import QFileDialog\n",
    "from PyQt5 import QtCore,QtGui, QtWidgets\n",
    "from PyQt5.QtWidgets import *"
   ],
   "id": "ac15c6df045b3664",
   "outputs": [],
   "execution_count": 11
  },
  {
   "metadata": {
    "ExecuteTime": {
     "end_time": "2024-11-01T13:56:40.042906Z",
     "start_time": "2024-11-01T13:56:40.028324Z"
    }
   },
   "cell_type": "code",
   "source": [
    "class Ui_Dialog(object):\n",
    "    def setupUi(self, Dialog):\n",
    "        Dialog.setObjectName(\"Dialog\")\n",
    "        # Set window size\n",
    "        Dialog.resize(645, 475)\n",
    "        # Set \"Open Image\" button\n",
    "        self.pushButton = QtWidgets.QPushButton(Dialog)\n",
    "        self.pushButton.setGeometry(QtCore.QRect(230, 340, 141, 41))\n",
    "        self.pushButton.setAutoDefault(False)\n",
    "        self.pushButton.setObjectName(\"pushButton\")\n",
    "        # Set label for displaying images\n",
    "        self.label = QtWidgets.QLabel(Dialog)\n",
    "        self.label.setGeometry(QtCore.QRect(220, 50, 191, 221))\n",
    "        self.label.setWordWrap(False)\n",
    "        self.label.setObjectName(\"label\")\n",
    "        # Set text edit area\n",
    "        self.textEdit = QtWidgets.QTextEdit(Dialog)\n",
    "        self.textEdit.setGeometry(QtCore.QRect(220, 280, 191, 41))\n",
    "        self.textEdit.setObjectName(\"textEdit\")\n",
    "\n",
    "        self.retranslateUi(Dialog)\n",
    "        QtCore.QMetaObject.connectSlotsByName(Dialog)\n",
    "\n",
    "    def retranslateUi(self, Dialog):\n",
    "        _translate = QtCore.QCoreApplication.translate\n",
    "        Dialog.setWindowTitle(_translate(\"Dialog\", \"手写体识别\"))\n",
    "        self.pushButton.setText(_translate(\"Dialog\", \"打开图像\"))\n",
    "        self.label.setText(_translate(\"Dialog\", \"显示图像\"))"
   ],
   "id": "7ca761a2b4d44cf",
   "outputs": [],
   "execution_count": 12
  },
  {
   "metadata": {
    "ExecuteTime": {
     "end_time": "2024-11-01T14:09:53.743424Z",
     "start_time": "2024-11-01T14:09:53.735902Z"
    }
   },
   "cell_type": "code",
   "source": [
    "class MyWindow(QtWidgets.QMainWindow, Ui_Dialog):\n",
    "    # Initialize data\n",
    "    def __init__(self, parent=None):\n",
    "        super(MyWindow, self).__init__(parent)\n",
    "        self.setupUi(self)\n",
    "        self.pushButton.clicked.connect(self.openImage)  # Click event to open image\n",
    "\n",
    "    def openImage(self):\n",
    "        # When \"Open Image\" button is clicked\n",
    "        imgName, imgType = QFileDialog.getOpenFileName(self, \"打开图像\", \"img_test\")\n",
    "        # Get image width and height, display on dialog\n",
    "        png = QtGui.QPixmap(imgName).scaled(self.label.width(), self.label.height())\n",
    "        self.label.setPixmap(png)\n",
    "        self.textEdit.setText(imgName)\n",
    "        # Load SVM model and predict the selected image's category\n",
    "        path = sys.path[0]\n",
    "        model_path = os.path.join(path, r'E:\\ipynb\\project\\cv_exp_mnist\\svm.model')\n",
    "        clf_joblib = joblib.load(model_path)\n",
    "        dataMat = img2vector4qt(imgName)\n",
    "        preResult = str(clf_joblib.predict(dataMat))\n",
    "        # Display processing results in text box\n",
    "        self.textEdit.setReadOnly(True)\n",
    "        self.textEdit.setStyleSheet(\"color:red\")\n",
    "        self.textEdit.setAlignment(QtCore.Qt.AlignHCenter | QtCore.Qt.AlignVCenter)\n",
    "        self.textEdit.setFontPointSize(9)\n",
    "        self.textEdit.setText(\"预测的结果是:\")\n",
    "        self.textEdit.append(preResult[1])"
   ],
   "id": "25276cce5d36b8c8",
   "outputs": [],
   "execution_count": 19
  },
  {
   "metadata": {
    "ExecuteTime": {
     "end_time": "2024-11-01T14:11:00.170507Z",
     "start_time": "2024-11-01T14:09:54.027033Z"
    }
   },
   "cell_type": "code",
   "source": [
    "%tb\n",
    "app = QApplication.instance()\n",
    "if app is None:\n",
    "    app= QApplication(sys.argv)\n",
    "myWin = MyWindow()\n",
    "myWin.show()\n",
    "sys.exit(app.exec_())"
   ],
   "id": "dfedcb58f0d8c4ce",
   "outputs": [
    {
     "ename": "SystemExit",
     "evalue": "0",
     "output_type": "error",
     "traceback": [
      "\u001B[1;31m---------------------------------------------------------------------------\u001B[0m",
      "\u001B[1;31mSystemExit\u001B[0m                                Traceback (most recent call last)",
      "Cell \u001B[1;32mIn[20], line 7\u001B[0m\n\u001B[0;32m      5\u001B[0m myWin \u001B[38;5;241m=\u001B[39m MyWindow()\n\u001B[0;32m      6\u001B[0m myWin\u001B[38;5;241m.\u001B[39mshow()\n\u001B[1;32m----> 7\u001B[0m \u001B[43msys\u001B[49m\u001B[38;5;241;43m.\u001B[39;49m\u001B[43mexit\u001B[49m\u001B[43m(\u001B[49m\u001B[43mapp\u001B[49m\u001B[38;5;241;43m.\u001B[39;49m\u001B[43mexec_\u001B[49m\u001B[43m(\u001B[49m\u001B[43m)\u001B[49m\u001B[43m)\u001B[49m\n",
      "\u001B[1;31mSystemExit\u001B[0m: 0"
     ]
    },
    {
     "ename": "SystemExit",
     "evalue": "0",
     "output_type": "error",
     "traceback": [
      "An exception has occurred, use %tb to see the full traceback.\n",
      "\u001B[1;31mSystemExit\u001B[0m\u001B[1;31m:\u001B[0m 0\n"
     ]
    }
   ],
   "execution_count": 20
  },
  {
   "metadata": {
    "ExecuteTime": {
     "end_time": "2024-11-01T13:56:53.706520Z",
     "start_time": "2024-11-01T13:56:53.706520Z"
    }
   },
   "cell_type": "code",
   "source": "",
   "id": "a99e2c4581c458fb",
   "outputs": [],
   "execution_count": null
  }
 ],
 "metadata": {
  "kernelspec": {
   "display_name": "Python 3",
   "language": "python",
   "name": "python3"
  },
  "language_info": {
   "codemirror_mode": {
    "name": "ipython",
    "version": 2
   },
   "file_extension": ".py",
   "mimetype": "text/x-python",
   "name": "python",
   "nbconvert_exporter": "python",
   "pygments_lexer": "ipython2",
   "version": "2.7.6"
  }
 },
 "nbformat": 4,
 "nbformat_minor": 5
}
